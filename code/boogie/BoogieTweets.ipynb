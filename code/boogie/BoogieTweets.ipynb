{
 "cells": [
  {
   "cell_type": "markdown",
   "metadata": {},
   "source": [
    "# Mining Melon's Twitter Feed"
   ]
  },
  {
   "cell_type": "markdown",
   "metadata": {},
   "source": [
    "### Set-up and loading data"
   ]
  },
  {
   "cell_type": "code",
   "execution_count": 1,
   "metadata": {},
   "outputs": [],
   "source": [
    "import pandas as pd\n",
    "import csv\n",
    "import os\n",
    "import numpy as np"
   ]
  },
  {
   "cell_type": "code",
   "execution_count": 2,
   "metadata": {},
   "outputs": [
    {
     "name": "stderr",
     "output_type": "stream",
     "text": [
      "/Users/steven/opt/anaconda3/lib/python3.7/site-packages/IPython/core/interactiveshell.py:3058: DtypeWarning: Columns (21) have mixed types. Specify dtype option on import or set low_memory=False.\n",
      "  interactivity=interactivity, compiler=compiler, result=result)\n"
     ]
    }
   ],
   "source": [
    "# step up directory to find data\n",
    "#owd=os.getcwd()\n",
    "os.chdir(\"..\") # to move up directory\n",
    "os.chdir(\"..\") # to move up directory\n",
    "path = os.getcwd()+\"/data/boogie2988.csv\"\n",
    "data = pd.read_csv(path)"
   ]
  },
  {
   "cell_type": "code",
   "execution_count": 3,
   "metadata": {},
   "outputs": [
    {
     "data": {
      "text/html": [
       "<div>\n",
       "<style scoped>\n",
       "    .dataframe tbody tr th:only-of-type {\n",
       "        vertical-align: middle;\n",
       "    }\n",
       "\n",
       "    .dataframe tbody tr th {\n",
       "        vertical-align: top;\n",
       "    }\n",
       "\n",
       "    .dataframe thead th {\n",
       "        text-align: right;\n",
       "    }\n",
       "</style>\n",
       "<table border=\"1\" class=\"dataframe\">\n",
       "  <thead>\n",
       "    <tr style=\"text-align: right;\">\n",
       "      <th></th>\n",
       "      <th>id</th>\n",
       "      <th>conversation_id</th>\n",
       "      <th>created_at</th>\n",
       "      <th>date</th>\n",
       "      <th>time</th>\n",
       "      <th>timezone</th>\n",
       "      <th>user_id</th>\n",
       "      <th>username</th>\n",
       "      <th>name</th>\n",
       "      <th>place</th>\n",
       "      <th>...</th>\n",
       "      <th>quote_url</th>\n",
       "      <th>video</th>\n",
       "      <th>near</th>\n",
       "      <th>geo</th>\n",
       "      <th>source</th>\n",
       "      <th>user_rt_id</th>\n",
       "      <th>user_rt</th>\n",
       "      <th>retweet_id</th>\n",
       "      <th>reply_to</th>\n",
       "      <th>retweet_date</th>\n",
       "    </tr>\n",
       "  </thead>\n",
       "  <tbody>\n",
       "    <tr>\n",
       "      <th>0</th>\n",
       "      <td>1.198118e+18</td>\n",
       "      <td>1.198117e+18</td>\n",
       "      <td>1.574490e+12</td>\n",
       "      <td>2019-11-23</td>\n",
       "      <td>16:55:47</td>\n",
       "      <td>AUS Eastern Daylight Time</td>\n",
       "      <td>42345999</td>\n",
       "      <td>boogie2988</td>\n",
       "      <td>Boogie Travels On Youtube!</td>\n",
       "      <td>NaN</td>\n",
       "      <td>...</td>\n",
       "      <td>NaN</td>\n",
       "      <td>0</td>\n",
       "      <td>NaN</td>\n",
       "      <td>NaN</td>\n",
       "      <td>NaN</td>\n",
       "      <td>NaN</td>\n",
       "      <td>NaN</td>\n",
       "      <td>NaN</td>\n",
       "      <td>[{'user_id': '42345999', 'username': 'Boogie29...</td>\n",
       "      <td>NaN</td>\n",
       "    </tr>\n",
       "    <tr>\n",
       "      <th>1</th>\n",
       "      <td>1.198118e+18</td>\n",
       "      <td>1.198117e+18</td>\n",
       "      <td>1.574490e+12</td>\n",
       "      <td>2019-11-23</td>\n",
       "      <td>16:55:15</td>\n",
       "      <td>AUS Eastern Daylight Time</td>\n",
       "      <td>42345999</td>\n",
       "      <td>boogie2988</td>\n",
       "      <td>Boogie Travels On Youtube!</td>\n",
       "      <td>NaN</td>\n",
       "      <td>...</td>\n",
       "      <td>NaN</td>\n",
       "      <td>0</td>\n",
       "      <td>NaN</td>\n",
       "      <td>NaN</td>\n",
       "      <td>NaN</td>\n",
       "      <td>NaN</td>\n",
       "      <td>NaN</td>\n",
       "      <td>NaN</td>\n",
       "      <td>[{'user_id': '42345999', 'username': 'Boogie29...</td>\n",
       "      <td>NaN</td>\n",
       "    </tr>\n",
       "    <tr>\n",
       "      <th>2</th>\n",
       "      <td>1.198117e+18</td>\n",
       "      <td>1.198117e+18</td>\n",
       "      <td>1.574490e+12</td>\n",
       "      <td>2019-11-23</td>\n",
       "      <td>16:53:01</td>\n",
       "      <td>AUS Eastern Daylight Time</td>\n",
       "      <td>42345999</td>\n",
       "      <td>boogie2988</td>\n",
       "      <td>Boogie Travels On Youtube!</td>\n",
       "      <td>NaN</td>\n",
       "      <td>...</td>\n",
       "      <td>https://twitter.com/acape51/status/11981166186...</td>\n",
       "      <td>0</td>\n",
       "      <td>NaN</td>\n",
       "      <td>NaN</td>\n",
       "      <td>NaN</td>\n",
       "      <td>NaN</td>\n",
       "      <td>NaN</td>\n",
       "      <td>NaN</td>\n",
       "      <td>[{'user_id': '42345999', 'username': 'Boogie29...</td>\n",
       "      <td>NaN</td>\n",
       "    </tr>\n",
       "    <tr>\n",
       "      <th>3</th>\n",
       "      <td>1.198114e+18</td>\n",
       "      <td>1.198114e+18</td>\n",
       "      <td>1.574490e+12</td>\n",
       "      <td>2019-11-23</td>\n",
       "      <td>16:41:44</td>\n",
       "      <td>AUS Eastern Daylight Time</td>\n",
       "      <td>42345999</td>\n",
       "      <td>boogie2988</td>\n",
       "      <td>Boogie Travels On Youtube!</td>\n",
       "      <td>NaN</td>\n",
       "      <td>...</td>\n",
       "      <td>NaN</td>\n",
       "      <td>0</td>\n",
       "      <td>NaN</td>\n",
       "      <td>NaN</td>\n",
       "      <td>NaN</td>\n",
       "      <td>NaN</td>\n",
       "      <td>NaN</td>\n",
       "      <td>NaN</td>\n",
       "      <td>[{'user_id': '42345999', 'username': 'Boogie29...</td>\n",
       "      <td>NaN</td>\n",
       "    </tr>\n",
       "    <tr>\n",
       "      <th>4</th>\n",
       "      <td>1.198094e+18</td>\n",
       "      <td>1.198094e+18</td>\n",
       "      <td>1.574480e+12</td>\n",
       "      <td>2019-11-23</td>\n",
       "      <td>15:20:45</td>\n",
       "      <td>AUS Eastern Daylight Time</td>\n",
       "      <td>42345999</td>\n",
       "      <td>boogie2988</td>\n",
       "      <td>Boogie Travels On Youtube!</td>\n",
       "      <td>NaN</td>\n",
       "      <td>...</td>\n",
       "      <td>NaN</td>\n",
       "      <td>0</td>\n",
       "      <td>NaN</td>\n",
       "      <td>NaN</td>\n",
       "      <td>NaN</td>\n",
       "      <td>NaN</td>\n",
       "      <td>NaN</td>\n",
       "      <td>NaN</td>\n",
       "      <td>[{'user_id': '42345999', 'username': 'Boogie29...</td>\n",
       "      <td>NaN</td>\n",
       "    </tr>\n",
       "  </tbody>\n",
       "</table>\n",
       "<p>5 rows × 31 columns</p>\n",
       "</div>"
      ],
      "text/plain": [
       "             id  conversation_id    created_at        date      time  \\\n",
       "0  1.198118e+18     1.198117e+18  1.574490e+12  2019-11-23  16:55:47   \n",
       "1  1.198118e+18     1.198117e+18  1.574490e+12  2019-11-23  16:55:15   \n",
       "2  1.198117e+18     1.198117e+18  1.574490e+12  2019-11-23  16:53:01   \n",
       "3  1.198114e+18     1.198114e+18  1.574490e+12  2019-11-23  16:41:44   \n",
       "4  1.198094e+18     1.198094e+18  1.574480e+12  2019-11-23  15:20:45   \n",
       "\n",
       "                    timezone   user_id    username  \\\n",
       "0  AUS Eastern Daylight Time  42345999  boogie2988   \n",
       "1  AUS Eastern Daylight Time  42345999  boogie2988   \n",
       "2  AUS Eastern Daylight Time  42345999  boogie2988   \n",
       "3  AUS Eastern Daylight Time  42345999  boogie2988   \n",
       "4  AUS Eastern Daylight Time  42345999  boogie2988   \n",
       "\n",
       "                         name  place  ...  \\\n",
       "0  Boogie Travels On Youtube!    NaN  ...   \n",
       "1  Boogie Travels On Youtube!    NaN  ...   \n",
       "2  Boogie Travels On Youtube!    NaN  ...   \n",
       "3  Boogie Travels On Youtube!    NaN  ...   \n",
       "4  Boogie Travels On Youtube!    NaN  ...   \n",
       "\n",
       "                                           quote_url video near geo  source  \\\n",
       "0                                                NaN     0  NaN NaN     NaN   \n",
       "1                                                NaN     0  NaN NaN     NaN   \n",
       "2  https://twitter.com/acape51/status/11981166186...     0  NaN NaN     NaN   \n",
       "3                                                NaN     0  NaN NaN     NaN   \n",
       "4                                                NaN     0  NaN NaN     NaN   \n",
       "\n",
       "   user_rt_id  user_rt retweet_id  \\\n",
       "0         NaN      NaN        NaN   \n",
       "1         NaN      NaN        NaN   \n",
       "2         NaN      NaN        NaN   \n",
       "3         NaN      NaN        NaN   \n",
       "4         NaN      NaN        NaN   \n",
       "\n",
       "                                            reply_to retweet_date  \n",
       "0  [{'user_id': '42345999', 'username': 'Boogie29...          NaN  \n",
       "1  [{'user_id': '42345999', 'username': 'Boogie29...          NaN  \n",
       "2  [{'user_id': '42345999', 'username': 'Boogie29...          NaN  \n",
       "3  [{'user_id': '42345999', 'username': 'Boogie29...          NaN  \n",
       "4  [{'user_id': '42345999', 'username': 'Boogie29...          NaN  \n",
       "\n",
       "[5 rows x 31 columns]"
      ]
     },
     "execution_count": 3,
     "metadata": {},
     "output_type": "execute_result"
    }
   ],
   "source": [
    "data.head()"
   ]
  },
  {
   "cell_type": "code",
   "execution_count": 4,
   "metadata": {},
   "outputs": [
    {
     "name": "stdout",
     "output_type": "stream",
     "text": [
      "id                 float64\n",
      "conversation_id    float64\n",
      "created_at         float64\n",
      "date                object\n",
      "time                object\n",
      "timezone            object\n",
      "user_id              int64\n",
      "username            object\n",
      "name                object\n",
      "place              float64\n",
      "tweet               object\n",
      "mentions            object\n",
      "urls                object\n",
      "photos              object\n",
      "replies_count        int64\n",
      "retweets_count       int64\n",
      "likes_count          int64\n",
      "hashtags            object\n",
      "cashtags            object\n",
      "link                object\n",
      "retweet               bool\n",
      "quote_url           object\n",
      "video                int64\n",
      "near               float64\n",
      "geo                float64\n",
      "source             float64\n",
      "user_rt_id         float64\n",
      "user_rt            float64\n",
      "retweet_id         float64\n",
      "reply_to            object\n",
      "retweet_date       float64\n",
      "dtype: object\n"
     ]
    }
   ],
   "source": [
    "print(data.dtypes)"
   ]
  },
  {
   "cell_type": "markdown",
   "metadata": {},
   "source": [
    "### Natural Language Processing"
   ]
  },
  {
   "cell_type": "code",
   "execution_count": 5,
   "metadata": {},
   "outputs": [],
   "source": [
    "data['date'] = pd.to_datetime(data['date'], format='%Y-%m-%d')\n",
    "data['retweet_date'] = pd.to_datetime(data['retweet_date'], format='%Y%m%d')"
   ]
  },
  {
   "cell_type": "code",
   "execution_count": 6,
   "metadata": {},
   "outputs": [
    {
     "name": "stderr",
     "output_type": "stream",
     "text": [
      "[nltk_data] Downloading package punkt to /Users/steven/nltk_data...\n",
      "[nltk_data]   Package punkt is already up-to-date!\n",
      "[nltk_data] Downloading package stopwords to\n",
      "[nltk_data]     /Users/steven/nltk_data...\n",
      "[nltk_data]   Package stopwords is already up-to-date!\n"
     ]
    },
    {
     "data": {
      "text/plain": [
       "True"
      ]
     },
     "execution_count": 6,
     "metadata": {},
     "output_type": "execute_result"
    }
   ],
   "source": [
    "import nltk\n",
    "nltk.download('punkt')\n",
    "nltk.download('stopwords')"
   ]
  },
  {
   "cell_type": "code",
   "execution_count": 7,
   "metadata": {},
   "outputs": [
    {
     "name": "stdout",
     "output_type": "stream",
     "text": [
      "<FreqDist with 53205 samples and 1426313 outcomes>\n"
     ]
    }
   ],
   "source": [
    "# initial set up and word tokenisation\n",
    "frame = data['tweet'].str.lower().str.cat(sep=' ')\n",
    "words = nltk.tokenize.word_tokenize(frame)\n",
    "word_dist = nltk.FreqDist(words)\n",
    "print(word_dist)"
   ]
  },
  {
   "cell_type": "code",
   "execution_count": 9,
   "metadata": {},
   "outputs": [],
   "source": [
    "# text cleaning using nltk pre-made english stopword list\n",
    "# convert this to a list before computation for speed\n",
    "stopwords = set(nltk.corpus.stopwords.words('english'))"
   ]
  },
  {
   "cell_type": "code",
   "execution_count": 10,
   "metadata": {},
   "outputs": [],
   "source": [
    "dict_filter = lambda word_dist, stopwords: \\\n",
    "    dict((word,word_dist[word]) \n",
    "    for word in word_dist if word not in stopwords \n",
    "         and word.isalpha()\n",
    "         and word not in ['http', 'https'])\n",
    "    \n",
    "filtered_word_freq = dict_filter(word_dist, stopwords)"
   ]
  },
  {
   "cell_type": "code",
   "execution_count": 11,
   "metadata": {},
   "outputs": [
    {
     "data": {
      "text/html": [
       "<div>\n",
       "<style scoped>\n",
       "    .dataframe tbody tr th:only-of-type {\n",
       "        vertical-align: middle;\n",
       "    }\n",
       "\n",
       "    .dataframe tbody tr th {\n",
       "        vertical-align: top;\n",
       "    }\n",
       "\n",
       "    .dataframe thead th {\n",
       "        text-align: right;\n",
       "    }\n",
       "</style>\n",
       "<table border=\"1\" class=\"dataframe\">\n",
       "  <thead>\n",
       "    <tr style=\"text-align: right;\">\n",
       "      <th></th>\n",
       "      <th>word</th>\n",
       "      <th>freq</th>\n",
       "    </tr>\n",
       "  </thead>\n",
       "  <tbody>\n",
       "    <tr>\n",
       "      <th>0</th>\n",
       "      <td>keep</td>\n",
       "      <td>1112</td>\n",
       "    </tr>\n",
       "    <tr>\n",
       "      <th>1</th>\n",
       "      <td>making</td>\n",
       "      <td>661</td>\n",
       "    </tr>\n",
       "    <tr>\n",
       "      <th>2</th>\n",
       "      <td>youtube</td>\n",
       "      <td>4134</td>\n",
       "    </tr>\n",
       "    <tr>\n",
       "      <th>3</th>\n",
       "      <td>cut</td>\n",
       "      <td>127</td>\n",
       "    </tr>\n",
       "    <tr>\n",
       "      <th>4</th>\n",
       "      <td>spending</td>\n",
       "      <td>89</td>\n",
       "    </tr>\n",
       "  </tbody>\n",
       "</table>\n",
       "</div>"
      ],
      "text/plain": [
       "       word  freq\n",
       "0      keep  1112\n",
       "1    making   661\n",
       "2   youtube  4134\n",
       "3       cut   127\n",
       "4  spending    89"
      ]
     },
     "execution_count": 11,
     "metadata": {},
     "output_type": "execute_result"
    }
   ],
   "source": [
    "# convert to pandas dataframe\n",
    "rslt = pd.DataFrame(list(filtered_word_freq.items()),\n",
    "                    columns=['word', 'freq'])\n",
    "rslt.head()"
   ]
  },
  {
   "cell_type": "code",
   "execution_count": 12,
   "metadata": {},
   "outputs": [],
   "source": [
    "sorted_rslt = rslt.sort_values(by='freq', ascending=False)\n",
    "sorted_rslt = sorted_rslt[:20]"
   ]
  },
  {
   "cell_type": "markdown",
   "metadata": {},
   "source": [
    "### Visualising the data"
   ]
  },
  {
   "cell_type": "code",
   "execution_count": 13,
   "metadata": {},
   "outputs": [],
   "source": [
    "import matplotlib.pyplot as plt\n",
    "import seaborn as sns; sns.set()\n",
    "%matplotlib inline"
   ]
  },
  {
   "cell_type": "markdown",
   "metadata": {},
   "source": [
    " "
   ]
  },
  {
   "cell_type": "code",
   "execution_count": 14,
   "metadata": {},
   "outputs": [
    {
     "data": {
      "image/png": "[encoded data removed]",
      "text/plain": [
       "<Figure size 1080x864 with 1 Axes>"
      ]
     },
     "metadata": {
      "needs_background": "light"
     },
     "output_type": "display_data"
    }
   ],
   "source": [
    "# most commonly used words\n",
    "sorted_rslt.reset_index(level=0, inplace=True)\n",
    "plt.rcParams[\"figure.figsize\"] = (15, 12)\n",
    "\n",
    "bar = sns.barplot(x = sorted_rslt['word'], \n",
    "                  y = sorted_rslt['freq'], \n",
    "                  data = sorted_rslt, \n",
    "                  palette = 'Blues_d')\n",
    "\n",
    "plt.show()"
   ]
  },
  {
   "cell_type": "code",
   "execution_count": 17,
   "metadata": {},
   "outputs": [],
   "source": [
    "# save to file\n",
    "fig = bar.get_figure()\n",
    "fig.savefig(\"img/output.png\")"
   ]
  }
 ],
 "metadata": {
  "kernelspec": {
   "display_name": "Python 3",
   "language": "python",
   "name": "python3"
  },
  "language_info": {
   "codemirror_mode": {
    "name": "ipython",
    "version": 3
   },
   "file_extension": ".py",
   "mimetype": "text/x-python",
   "name": "python",
   "nbconvert_exporter": "python",
   "pygments_lexer": "ipython3",
   "version": "3.7.4"
  }
 },
 "nbformat": 4,
 "nbformat_minor": 4
}
